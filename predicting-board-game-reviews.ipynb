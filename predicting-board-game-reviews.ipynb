{
 "cells": [
  {
   "cell_type": "markdown",
   "metadata": {},
   "source": [
    "# Predicting Board Game Reviews\n",
    "[BoardGameGeek](http://www.boardgamegeek.com) is a popular site where board games are discussed and reviewed.\n",
    "\n",
    "## 1: Introduction To The Data Set\n",
    "For this project, we will be working with a data set that contains 80000 board games and their associated review scores. The data was scraped from BoardGameGeek and compiled into CSV format by [Sean Beck](https://github.com/ThaWeatherman). The data set is stored in board_games.csv, and can be downloaded [here](https://github.com/ThaWeatherman/scrapers/blob/master/boardgamegeek/games.csv). \n",
    "\n",
    "Each row represents a single board game, and has descriptive statistics about the board game, as well as review information. \n",
    "\n",
    "Here are some of the interesting columns:\n",
    "* `name`: name of the board game.\n",
    "* `playingtime`: the playing time (given by the manufacturer).\n",
    "* `minplaytime`: the minimum playing time (given by the manufacturer).\n",
    "* `maxplaytime`: the maximum playing time (given by the manufacturer).\n",
    "* `minage`: the minimum recommended age to play.\n",
    "* `users_rated`: the number of users who rated the game.\n",
    "* `average_rating`: the average rating given to the game by users. (0-10)\n",
    "* `total_weights`: Number of weights given by users.\n",
    "* `average_weight`: the average of all the subjective weights (0-5).\n",
    "\n",
    "We will aim to create a machine learning model to predict `average_rating` using the other columns. The data set contains quite a few missing values, and rows where there are no reviews. We will remove these as we explore the data.\n",
    "\n",
    "* Read the `board_games.csv` data set into a Dataframe called `board_games`.\n",
    "* Display the dataframe columns with data types.\n",
    "* Display the first few rows of `board_games` and get familiar with the data set.\n",
    "* Remove rows containing missing values.\n",
    "* Remove any rows that have no reviews.\n",
    "\n",
    "-----\n"
   ]
  },
  {
   "cell_type": "code",
   "execution_count": 2,
   "metadata": {
    "collapsed": false
   },
   "outputs": [
    {
     "name": "stdout",
     "output_type": "stream",
     "text": [
      "id                        int64\n",
      "type                     object\n",
      "name                     object\n",
      "yearpublished           float64\n",
      "minplayers              float64\n",
      "maxplayers              float64\n",
      "playingtime             float64\n",
      "minplaytime             float64\n",
      "maxplaytime             float64\n",
      "minage                  float64\n",
      "users_rated               int64\n",
      "average_rating          float64\n",
      "bayes_average_rating    float64\n",
      "total_owners              int64\n",
      "total_traders             int64\n",
      "total_wanters             int64\n",
      "total_wishers             int64\n",
      "total_comments            int64\n",
      "total_weights             int64\n",
      "average_weight          float64\n",
      "dtype: object\n",
      "\n"
     ]
    }
   ],
   "source": [
    "import pandas as pd\n",
    "board_games = pd.read_csv(\"data/board_games.csv\")\n",
    "\n",
    "print(board_games.dtypes)\n",
    "print()"
   ]
  },
  {
   "cell_type": "code",
   "execution_count": 3,
   "metadata": {
    "collapsed": false
   },
   "outputs": [
    {
     "name": "stdout",
     "output_type": "stream",
     "text": [
      "       id       type                                       name  \\\n",
      "0   12333  boardgame                          Twilight Struggle   \n",
      "1  120677  boardgame                              Terra Mystica   \n",
      "2  102794  boardgame                  Caverna: The Cave Farmers   \n",
      "3   25613  boardgame  Through the Ages: A Story of Civilization   \n",
      "4    3076  boardgame                                Puerto Rico   \n",
      "\n",
      "   yearpublished  minplayers  maxplayers  playingtime  minplaytime  \\\n",
      "0         2005.0         2.0         2.0        180.0        180.0   \n",
      "1         2012.0         2.0         5.0        150.0         60.0   \n",
      "2         2013.0         1.0         7.0        210.0         30.0   \n",
      "3         2006.0         2.0         4.0        240.0        240.0   \n",
      "4         2002.0         2.0         5.0        150.0         90.0   \n",
      "\n",
      "   maxplaytime  minage  users_rated  average_rating  bayes_average_rating  \\\n",
      "0        180.0    13.0        20113         8.33774               8.22186   \n",
      "1        150.0    12.0        14383         8.28798               8.14232   \n",
      "2        210.0    12.0         9262         8.28994               8.06886   \n",
      "3        240.0    12.0        13294         8.20407               8.05804   \n",
      "4        150.0    12.0        39883         8.14261               8.04524   \n",
      "\n",
      "   total_owners  total_traders  total_wanters  total_wishers  total_comments  \\\n",
      "0         26647            372           1219           5865            5347   \n",
      "1         16519            132           1586           6277            2526   \n",
      "2         12230             99           1476           5600            1700   \n",
      "3         14343            362           1084           5075            3378   \n",
      "4         44362            795            861           5414            9173   \n",
      "\n",
      "   total_weights  average_weight  \n",
      "0           2562          3.4785  \n",
      "1           1423          3.8939  \n",
      "2            777          3.7761  \n",
      "3           1642          4.1590  \n",
      "4           5213          3.2943  \n",
      "\n"
     ]
    }
   ],
   "source": [
    "print(board_games.head())\n",
    "print()"
   ]
  },
  {
   "cell_type": "code",
   "execution_count": 7,
   "metadata": {
    "collapsed": false
   },
   "outputs": [
    {
     "name": "stdout",
     "output_type": "stream",
     "text": [
      "(81312, 20)\n",
      "\n"
     ]
    }
   ],
   "source": [
    "print(board_games.shape)\n",
    "print()"
   ]
  },
  {
   "cell_type": "code",
   "execution_count": 11,
   "metadata": {
    "collapsed": false
   },
   "outputs": [
    {
     "name": "stdout",
     "output_type": "stream",
     "text": [
      "(56894, 20)\n",
      "\n"
     ]
    }
   ],
   "source": [
    "board_games.dropna(axis=0, inplace=True)\n",
    "print(board_games.shape)\n",
    "print()"
   ]
  },
  {
   "cell_type": "code",
   "execution_count": 13,
   "metadata": {
    "collapsed": false
   },
   "outputs": [
    {
     "name": "stdout",
     "output_type": "stream",
     "text": [
      "(56894, 20)\n",
      "       id       type                                       name  \\\n",
      "0   12333  boardgame                          Twilight Struggle   \n",
      "1  120677  boardgame                              Terra Mystica   \n",
      "2  102794  boardgame                  Caverna: The Cave Farmers   \n",
      "3   25613  boardgame  Through the Ages: A Story of Civilization   \n",
      "4    3076  boardgame                                Puerto Rico   \n",
      "\n",
      "   yearpublished  minplayers  maxplayers  playingtime  minplaytime  \\\n",
      "0         2005.0         2.0         2.0        180.0        180.0   \n",
      "1         2012.0         2.0         5.0        150.0         60.0   \n",
      "2         2013.0         1.0         7.0        210.0         30.0   \n",
      "3         2006.0         2.0         4.0        240.0        240.0   \n",
      "4         2002.0         2.0         5.0        150.0         90.0   \n",
      "\n",
      "   maxplaytime  minage  users_rated  average_rating  bayes_average_rating  \\\n",
      "0        180.0    13.0        20113         8.33774               8.22186   \n",
      "1        150.0    12.0        14383         8.28798               8.14232   \n",
      "2        210.0    12.0         9262         8.28994               8.06886   \n",
      "3        240.0    12.0        13294         8.20407               8.05804   \n",
      "4        150.0    12.0        39883         8.14261               8.04524   \n",
      "\n",
      "   total_owners  total_traders  total_wanters  total_wishers  total_comments  \\\n",
      "0         26647            372           1219           5865            5347   \n",
      "1         16519            132           1586           6277            2526   \n",
      "2         12230             99           1476           5600            1700   \n",
      "3         14343            362           1084           5075            3378   \n",
      "4         44362            795            861           5414            9173   \n",
      "\n",
      "   total_weights  average_weight  \n",
      "0           2562          3.4785  \n",
      "1           1423          3.8939  \n",
      "2            777          3.7761  \n",
      "3           1642          4.1590  \n",
      "4           5213          3.2943  \n"
     ]
    }
   ],
   "source": [
    "board_games = board_games[board_games[\"users_rated\"] > 0]\n",
    "print(board_games.shape)\n",
    "print(board_games.head())"
   ]
  },
  {
   "cell_type": "code",
   "execution_count": 14,
   "metadata": {
    "collapsed": false
   },
   "outputs": [
    {
     "name": "stdout",
     "output_type": "stream",
     "text": [
      "                        count          mean           std     min       25%  \\\n",
      "id                    56894.0  64092.223943  57513.253779     1.0  16133.25   \n",
      "yearpublished         56894.0   1874.793089    486.032042 -3500.0   1989.00   \n",
      "minplayers            56894.0      2.004834      0.791475     0.0      2.00   \n",
      "maxplayers            56894.0      5.572837     50.773395     0.0      2.00   \n",
      "playingtime           56894.0     59.921503    406.451917     0.0     15.00   \n",
      "minplaytime           56894.0     57.457184    393.197450     0.0     15.00   \n",
      "maxplaytime           56894.0     59.921503    406.451917     0.0     15.00   \n",
      "minage                56894.0      7.591556      4.869533     0.0      4.00   \n",
      "users_rated           56894.0    231.360477   1364.124459     1.0      2.00   \n",
      "average_rating        56894.0      6.016113      1.578830     1.0      5.00   \n",
      "bayes_average_rating  56894.0      1.654372      2.646445     0.0      0.00   \n",
      "total_owners          56894.0    374.507470   1787.003768     0.0      5.00   \n",
      "total_traders         56894.0     13.166432     46.984706     0.0      0.00   \n",
      "total_wanters         56894.0     18.002689     71.984315     0.0      0.00   \n",
      "total_wishers         56894.0     60.579024    284.161400     0.0      0.00   \n",
      "total_comments        56894.0     70.344219    338.375579     0.0      1.00   \n",
      "total_weights         56894.0     23.548722    138.053005     0.0      0.00   \n",
      "average_weight        56894.0      1.269716      1.213841     0.0      0.00   \n",
      "\n",
      "                           50%           75%           max  \n",
      "id                    36921.00  118558.75000  184260.00000  \n",
      "yearpublished          2005.00    2011.00000    2017.00000  \n",
      "minplayers                2.00       2.00000      40.00000  \n",
      "maxplayers                4.00       6.00000   11299.00000  \n",
      "playingtime              30.00      60.00000   60120.00000  \n",
      "minplaytime              30.00      60.00000   60120.00000  \n",
      "maxplaytime              30.00      60.00000   60120.00000  \n",
      "minage                    8.00      12.00000     120.00000  \n",
      "users_rated               7.00      39.00000   53680.00000  \n",
      "average_rating            6.15       7.04000      10.00000  \n",
      "bayes_average_rating      0.00       5.48824       8.22186  \n",
      "total_owners             20.00     125.00000   73188.00000  \n",
      "total_traders             1.00       6.00000    1395.00000  \n",
      "total_wanters             1.00       6.00000    1586.00000  \n",
      "total_wishers             3.00      15.00000    6402.00000  \n",
      "total_comments            4.00      19.00000   11798.00000  \n",
      "total_weights             1.00       5.00000    5996.00000  \n",
      "average_weight            1.00       2.00000       5.00000  \n",
      "\n"
     ]
    }
   ],
   "source": [
    "print(board_games.describe().transpose())\n",
    "print()"
   ]
  },
  {
   "cell_type": "markdown",
   "metadata": {},
   "source": [
    "\n",
    "* The original data set has 81312 rows.\n",
    "* After dropping the rows with missing values and missing reviews, the dataframe contains 56894 rows.\n",
    "-----"
   ]
  },
  {
   "cell_type": "markdown",
   "metadata": {
    "collapsed": true
   },
   "source": [
    "## 2: Picking An Error Metric\n",
    "We will attempt predicting the `average_rating` column using the other columns.\n",
    "We will need to do some data exploration before that to help us understand the distribution of `average_rating` better, as well as select an **error metric** that we will use to evaluate the performance of the machine learning model.\n",
    "\n",
    "* Generate a histogram of the average ratings.\n",
    "* Generate a box and whisker plot of the average ratings.\n",
    "* Calculate the standard deviation.\n",
    "* Calculating the mean.\n",
    "\n",
    "Determine the error metric that might make sense for this data.\n"
   ]
  },
  {
   "cell_type": "code",
   "execution_count": 15,
   "metadata": {
    "collapsed": false,
    "scrolled": true
   },
   "outputs": [
    {
     "data": {
      "image/png": "[encoded data removed]",
      "text/plain": [
       "<matplotlib.figure.Figure at 0x24d95032a90>"
      ]
     },
     "metadata": {},
     "output_type": "display_data"
    }
   ],
   "source": [
    "import matplotlib.pyplot as plt\n",
    "plt.hist(board_games[\"average_rating\"])\n",
    "plt.show()"
   ]
  },
  {
   "cell_type": "code",
   "execution_count": 17,
   "metadata": {
    "collapsed": false
   },
   "outputs": [
    {
     "data": {
      "image/png": "[encoded data removed]",
      "text/plain": [
       "<matplotlib.figure.Figure at 0x24d96b71390>"
      ]
     },
     "metadata": {},
     "output_type": "display_data"
    }
   ],
   "source": [
    "plt.boxplot(board_games[\"average_rating\"])\n",
    "plt.show()"
   ]
  },
  {
   "cell_type": "markdown",
   "metadata": {},
   "source": [
    "-----\n",
    "Calculate the standard deviation."
   ]
  },
  {
   "cell_type": "code",
   "execution_count": 18,
   "metadata": {
    "collapsed": false
   },
   "outputs": [
    {
     "name": "stdout",
     "output_type": "stream",
     "text": [
      "1.5788160595839211\n"
     ]
    }
   ],
   "source": [
    "import numpy as np\n",
    "print(np.std(board_games[\"average_rating\"]))"
   ]
  },
  {
   "cell_type": "markdown",
   "metadata": {},
   "source": [
    "-----\n",
    "Calculating the mean."
   ]
  },
  {
   "cell_type": "code",
   "execution_count": 19,
   "metadata": {
    "collapsed": false
   },
   "outputs": [
    {
     "name": "stdout",
     "output_type": "stream",
     "text": [
      "6.016112849333889\n"
     ]
    }
   ],
   "source": [
    "print(np.mean(board_games[\"average_rating\"]))"
   ]
  },
  {
   "cell_type": "markdown",
   "metadata": {},
   "source": [
    "In this data set, using **_mean squared error_** as an error metric makes sense.  This is because the data is continuous, and follows a somewhat normal distribution.  We'll be able to compare our error to the standard deviation to see how good the model is at predictions.\n",
    "\n",
    "---"
   ]
  },
  {
   "cell_type": "markdown",
   "metadata": {},
   "source": [
    "## 3: Plotting Clusters\n",
    "We will look for patterns that may help to develop a machine learning model. \n",
    "We will use a clustering algorithm to create clusters, then plot them out. \n",
    "\n",
    "First use the sklearn.cluster.KMeans class to fit a k-means clustering model. This class only works with numeric columns, so we will extract the numeric columns of `board_games` before passing them into the KMeans.fit() method.\n",
    "\n",
    "To visualize how board games are clustered, we can calculate the row means and row standard deviations and then generate a scatter plot that compares the means against the standard deviations.\n",
    "\n",
    "\n",
    "* Use the `KMeans` class to create clusters.\n",
    "  * Initialize the `KMeans` class with 5 clusters.\n",
    "  * Extract the numeric columns of board_games, and assign to the variable `numeric_columns`.\n",
    "    * Leave out `name`, `type`, and `id`.\n",
    "  * Fit the `KMeans` class to `numeric_columns` using the `fit` method.\n",
    "  * Extract the `labels_` attribute of the `KMeans` class, and assign to the variable `labels`.\n",
    "* Plot out the cluster assignments.\n",
    "  * Find the mean of each row. Assign the result to `game_mean`.\n",
    "  * Find the standard deviation of each row. Assign the result to `game_std`.\n",
    "  * Create a plot using the matplotlib `scatter` function, with the `c` keyword argument set to `labels`, the keyword argument `x` set to `game_mean`, and the keyword argument `y` set to `game_std`."
   ]
  },
  {
   "cell_type": "code",
   "execution_count": 23,
   "metadata": {
    "collapsed": false
   },
   "outputs": [
    {
     "name": "stdout",
     "output_type": "stream",
     "text": [
      "[[  34270.32024043   15515.75080653   23212.00318112   29034.55646449\n",
      "   109239.51960278]\n",
      " [  22863.02928513    5452.66725998   35033.39527854   17733.51036971\n",
      "   106312.37310857]\n",
      " [  16344.41370792    4888.37318413   41586.75357124   11292.41334578\n",
      "   105049.99688662]\n",
      " [  20424.37995657    3573.13417363   37216.55936336   15292.65450822\n",
      "   105609.78133475]\n",
      " [  60671.68052148   41952.63884198    5691.39402261   55484.43932957\n",
      "   120248.90412433]]\n"
     ]
    }
   ],
   "source": [
    "from sklearn.cluster import KMeans\n",
    "kmeans_model = KMeans(n_clusters=5, random_state=1)\n",
    "#print(list(board_games))\n",
    "numeric_columns = ['yearpublished', 'minplayers', 'maxplayers', 'playingtime', 'minplaytime', 'maxplaytime', 'minage', \n",
    "                   'users_rated', 'average_rating', 'bayes_average_rating', 'total_owners', 'total_traders', \n",
    "                   'total_wanters', 'total_wishers', 'total_comments', 'total_weights', 'average_weight']\n",
    "distances = kmeans_model.fit_transform(board_games[numeric_columns])\n",
    "labels = kmeans_model.labels_\n",
    "print(distances[0:5])"
   ]
  },
  {
   "cell_type": "code",
   "execution_count": 21,
   "metadata": {
    "collapsed": false
   },
   "outputs": [
    {
     "data": {
      "image/png": "[encoded data removed]",
      "text/plain": [
       "<matplotlib.figure.Figure at 0x24d95904ef0>"
      ]
     },
     "metadata": {},
     "output_type": "display_data"
    }
   ],
   "source": [
    "game_mean = board_games[numeric_columns].apply(np.mean, axis=1)\n",
    "game_std = board_games[numeric_columns].apply(np.std, axis=1)\n",
    "plt.scatter(game_mean, game_std, c=labels)\n",
    "plt.show()"
   ]
  },
  {
   "cell_type": "markdown",
   "metadata": {},
   "source": [
    "It looks like most of the games are similar, but as the game attributes tend to increase in value (such as number of users who rated), there are fewer high quality games.  So most games don't get played much, but a few get a lot of players."
   ]
  },
  {
   "cell_type": "markdown",
   "metadata": {},
   "source": [
    "## 4: Finding Correlations\n",
    "We can figure out which columns correlate well with average_rating. This will enable us to remove columns that don't add much predictive power to the model. It will also enable us to remove columns that are derived from the target, or otherwise cause overfitting.\n",
    "\n",
    "* Compute pairwise correlations between only the numeric columns. Assign the result to `correlations`.\n",
    "* Display the `average_rating` column of `correlations`, which shows how much the other columns correlate with the `average_rating` column.\n",
    "* Remove any columns that seem to be derived from the `average_rating`. The `bayes_average_rating` is an example of this.\n",
    "* Remove any columns that don't seem to correlate at all with the `average_rating` column."
   ]
  },
  {
   "cell_type": "code",
   "execution_count": 24,
   "metadata": {
    "collapsed": false
   },
   "outputs": [
    {
     "name": "stdout",
     "output_type": "stream",
     "text": [
      "yearpublished           0.108461\n",
      "minplayers             -0.032701\n",
      "maxplayers             -0.008335\n",
      "playingtime             0.048994\n",
      "minplaytime             0.043985\n",
      "maxplaytime             0.048994\n",
      "minage                  0.210049\n",
      "users_rated             0.112564\n",
      "average_rating          1.000000\n",
      "bayes_average_rating    0.231563\n",
      "total_owners            0.137478\n",
      "total_traders           0.119452\n",
      "total_wanters           0.196566\n",
      "total_wishers           0.171375\n",
      "total_comments          0.123714\n",
      "total_weights           0.109691\n",
      "average_weight          0.351081\n",
      "Name: average_rating, dtype: float64\n"
     ]
    }
   ],
   "source": [
    "correlations = board_games[numeric_columns].corr(method='pearson')\n",
    "print(correlations[\"average_rating\"])\n"
   ]
  },
  {
   "cell_type": "markdown",
   "metadata": {},
   "source": [
    "* Game difficulty or complexity (`average_weight` column) has the highest correlation with `average_rating`.\n",
    "* Ignore `bayes_average_rating` since it seeems to be derived from `average_weight`.\n",
    "* `minage` column has the next best correlation with `average_rating` which indicates that games for older players (`minage` is high) tend to be more highly rated.\n",
    "* The `yearpublished` column is highly correlated with `average_rating`, showing that more recent games tend to be rated more highly. "
   ]
  },
  {
   "cell_type": "markdown",
   "metadata": {},
   "source": [
    "## 5: Splitting The Data Into Train And Test Sets\n",
    "Before we begin applying machine learning algorithms, we will need to split the data into training and testing sets. This will enable us to train an algorithm using the training set, and evaluate its accuracy on the testing set.\n",
    "\n",
    "* Select 80% of the rows in `board_games` to be part of the training set using the sample method on `board_games`. Assign the result to `train`.\n",
    "* Select the rows that are in `board_games` but not in train to be in the testing set. Assign the result to `test`.  "
   ]
  },
  {
   "cell_type": "code",
   "execution_count": 25,
   "metadata": {
    "collapsed": false
   },
   "outputs": [
    {
     "name": "stdout",
     "output_type": "stream",
     "text": [
      "(45515, 20)\n"
     ]
    }
   ],
   "source": [
    "train = board_games.sample(frac=.8)\n",
    "print(train.shape)"
   ]
  },
  {
   "cell_type": "code",
   "execution_count": 26,
   "metadata": {
    "collapsed": false
   },
   "outputs": [
    {
     "name": "stdout",
     "output_type": "stream",
     "text": [
      "(11379, 20)\n"
     ]
    }
   ],
   "source": [
    "test = board_games.loc[~board_games.index.isin(train.index)]\n",
    "print(test.shape)"
   ]
  },
  {
   "cell_type": "markdown",
   "metadata": {},
   "source": [
    "## 5: Creating A Model\n",
    "Create a linear regression model and make predictions for newly created board games.\n",
    "\n",
    "We will fit a linear regression model to `board_games`, using the columns we think should be predictors, and `average_rating` as the target. We will then generate predictions using the same predictors we used in the fitting process.\n",
    "\n",
    "* Initialize a LinearRegression model, and assign it to the variable `lr`.\n",
    "* Use the `LinearRegression.fit()` method to set the predictor columns and set the target column to `average_rating`.\n",
    "* Use the `LinearRegression.predict()` method to make predictions using the predictor columns. Assign the result to `predictions`.\n",
    "* Calculate the `mean_squared_error` for the model."
   ]
  },
  {
   "cell_type": "code",
   "execution_count": 29,
   "metadata": {
    "collapsed": false
   },
   "outputs": [
    {
     "name": "stdout",
     "output_type": "stream",
     "text": [
      "['yearpublished', 'minplayers', 'maxplayers', 'playingtime', 'minplaytime', 'maxplaytime', 'minage', 'users_rated', 'average_rating', 'bayes_average_rating', 'total_owners', 'total_traders', 'total_wanters', 'total_wishers', 'total_comments', 'total_weights', 'average_weight']\n",
      "['yearpublished', 'minplayers', 'maxplayers', 'playingtime', 'minplaytime', 'maxplaytime', 'minage', 'users_rated', 'total_owners', 'total_traders', 'total_wanters', 'total_wishers', 'total_comments', 'total_weights', 'average_weight']\n"
     ]
    }
   ],
   "source": [
    "predictors = list(numeric_columns)\n",
    "print(predictors)\n",
    "predictors.remove('average_rating')\n",
    "predictors.remove('bayes_average_rating')\n",
    "print(predictors)"
   ]
  },
  {
   "cell_type": "code",
   "execution_count": 35,
   "metadata": {
    "collapsed": false
   },
   "outputs": [],
   "source": [
    "from sklearn.linear_model import LinearRegression\n",
    "from sklearn.metrics import mean_squared_error"
   ]
  },
  {
   "cell_type": "markdown",
   "metadata": {},
   "source": [
    "model using only average_weight parameter"
   ]
  },
  {
   "cell_type": "code",
   "execution_count": 32,
   "metadata": {
    "collapsed": false
   },
   "outputs": [
    {
     "name": "stdout",
     "output_type": "stream",
     "text": [
      "2.22750440769\n",
      "1.49248263229\n"
     ]
    }
   ],
   "source": [
    "lr = LinearRegression()\n",
    "lr.fit(train[[\"average_weight\"]], train[\"average_rating\"])\n",
    "predictions = lr.predict(test[[\"average_weight\"]])\n",
    "lr_mse = mean_squared_error(test[\"average_rating\"], predictions)\n",
    "print(lr_mse)\n",
    "lr_rmse = lr_mse**(0.5)\n",
    "print(lr_rmse)"
   ]
  },
  {
   "cell_type": "markdown",
   "metadata": {},
   "source": [
    "model using only minage parameter"
   ]
  },
  {
   "cell_type": "code",
   "execution_count": 33,
   "metadata": {
    "collapsed": false
   },
   "outputs": [
    {
     "name": "stdout",
     "output_type": "stream",
     "text": [
      "2.42101195709\n",
      "1.55596013994\n"
     ]
    }
   ],
   "source": [
    "lr = LinearRegression()\n",
    "lr.fit(train[[\"minage\"]], train[\"average_rating\"])\n",
    "predictions = lr.predict(test[[\"minage\"]])\n",
    "lr_mse = mean_squared_error(test[\"average_rating\"], predictions)\n",
    "print(lr_mse)\n",
    "lr_rmse = lr_mse**(0.5)\n",
    "print(lr_rmse)"
   ]
  },
  {
   "cell_type": "markdown",
   "metadata": {},
   "source": [
    "model using average_weight and minage parameters"
   ]
  },
  {
   "cell_type": "code",
   "execution_count": 34,
   "metadata": {
    "collapsed": false
   },
   "outputs": [
    {
     "name": "stdout",
     "output_type": "stream",
     "text": [
      "2.18307357107\n",
      "1.47752278191\n"
     ]
    }
   ],
   "source": [
    "lr = LinearRegression()\n",
    "lr.fit(train[[\"average_weight\",\"minage\"]], train[\"average_rating\"])\n",
    "predictions = lr.predict(test[[\"average_weight\",\"minage\"]])\n",
    "lr_mse = mean_squared_error(test[\"average_rating\"], predictions)\n",
    "print(lr_mse)\n",
    "lr_rmse = lr_mse**(0.5)\n",
    "print(lr_rmse)"
   ]
  },
  {
   "cell_type": "markdown",
   "metadata": {},
   "source": [
    "model using multiple parameters"
   ]
  },
  {
   "cell_type": "code",
   "execution_count": 37,
   "metadata": {
    "collapsed": false
   },
   "outputs": [
    {
     "name": "stdout",
     "output_type": "stream",
     "text": [
      "2.13055446561\n",
      "1.45964189636\n"
     ]
    }
   ],
   "source": [
    "lr = LinearRegression()\n",
    "lr.fit(train[predictors], train[\"average_rating\"])\n",
    "predictions = lr.predict(test[predictors])\n",
    "lr_mse = mean_squared_error(test[\"average_rating\"], predictions)\n",
    "print(lr_mse)\n",
    "lr_rmse = lr_mse**(0.5)\n",
    "print(lr_rmse)"
   ]
  },
  {
   "cell_type": "markdown",
   "metadata": {},
   "source": [
    "* We get the least error rate when using almost all the numeric columns as predictors.\n",
    "* Howveer the error rate is close to the standard deviation of all board game ratings.  This indicates that our model may not have high predictive power.  We'll need to dig more into which games were scored well, and which ones weren't."
   ]
  },
  {
   "cell_type": "markdown",
   "metadata": {},
   "source": [
    "## 6: Using Other Algorithms\n",
    "\n",
    "* Try using the RandomForestRegressor algorithm."
   ]
  },
  {
   "cell_type": "code",
   "execution_count": 38,
   "metadata": {
    "collapsed": false
   },
   "outputs": [
    {
     "name": "stdout",
     "output_type": "stream",
     "text": [
      "0.300836043937\n",
      "0.548485226726\n"
     ]
    }
   ],
   "source": [
    "from sklearn.ensemble import RandomForestRegressor\n",
    "reg = RandomForestRegressor()\n",
    "reg.fit(board_games[predictors],board_games[\"average_rating\"])\n",
    "reg_pred = reg.predict(board_games[predictors])\n",
    "reg_mse = mean_squared_error(board_games[\"average_rating\"],reg_pred)\n",
    "print(reg_mse)\n",
    "reg_rmse = reg_mse**(0.5)\n",
    "print(reg_rmse)"
   ]
  },
  {
   "cell_type": "markdown",
   "metadata": {},
   "source": [
    "We can see that using the Random Forest model gives far superior results than Linear Regression."
   ]
  }
 ],
 "metadata": {
  "kernelspec": {
   "display_name": "Python [default]",
   "language": "python",
   "name": "python3"
  },
  "language_info": {
   "codemirror_mode": {
    "name": "ipython",
    "version": 3
   },
   "file_extension": ".py",
   "mimetype": "text/x-python",
   "name": "python",
   "nbconvert_exporter": "python",
   "pygments_lexer": "ipython3",
   "version": "3.5.2"
  }
 },
 "nbformat": 4,
 "nbformat_minor": 1
}
