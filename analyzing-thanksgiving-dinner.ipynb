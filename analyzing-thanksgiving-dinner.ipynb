{
 "cells": [
  {
   "cell_type": "markdown",
   "metadata": {},
   "source": [
    "# Project: Analyzing Thanksgiving Dinner"
   ]
  },
  {
   "cell_type": "markdown",
   "metadata": {},
   "source": [
    "## 1: Introducing Thanksgiving Dinner Data\n",
    "In this project, we will be analyzing data on Thanksgiving dinner in the US. The dataset came from [FiveThirtyEight](https://www.fivethirtyeight.com/), and can be found [here](https://github.com/fivethirtyeight/data/tree/master/thanksgiving-2015).\n",
    "\n",
    "The dataset is stored in the `thanksgiving.csv` file. It contains 1058 responses to an online survey about what Americans eat for Thanksgiving dinner. Each survey respondent was asked questions about what they typically eat for Thanksgiving, along with some demographic questions, like their gender, income, and location. This dataset will allow us to discover regional and income-based patterns in what Americans eat for Thanksgiving dinner.\n",
    "\n",
    "The dataset has 65 columns, and 1058 rows. Most of the column names are questions, and most of the column values are string responses to the questions. Most of the columns are categorical, as a survey respondent had to select one of a few options. For example, one of the first column names is `What is typically the main dish at your Thanksgiving dinner?`. The potential responses are:\n",
    "* `Turkey`\n",
    "* `Other (please specify)`\n",
    "* `Ham/Pork`\n",
    "* `Tofurkey`\n",
    "* `Chicken`\n",
    "* `Roast beef`\n",
    "* `I don't know`\n",
    "* `Turducken`\n",
    "\n",
    "Most of the columns follow the same question/response format as the above. There are also quite a few `NaN` values in the columns, which occurred when a survey respondent didn't fill out a question because they didn't want to, or it didn't apply to them.\n",
    "\n",
    "Here are descriptions of some of the most important:\n",
    "* `RespondentID` -- a unique ID of the respondent to the survey.\n",
    "* `Do you celebrate Thanksgiving?` -- a Yes/No reponse to the question.\n",
    "* `How would you describe where you live?` -- responses are Suburban, Urban, and Rural.\n",
    "* `Age` -- responses are one of several categories, such as 18-29, and 30-44.\n",
    "* `How much total combined money did all members of your HOUSEHOLD earn last year?` -- one of several categories, such as \\$75,000 to \\$99,999.\n",
    "\n",
    "In this project, we will explore the data, and try to find interesting patterns. Our first step is to read in and display the data.\n",
    "\n",
    "* Import the pandas package. Use the pandas.read_csv() function to read the thanksgiving.csv file in. Specify the keyword argument encoding=\"Latin-1\", as the CSV file isn't encoded normally. Assign the result to the variable data.\n",
    "* Display the first few rows of data to see what the columns and rows look like.\n",
    "* Display all of the column names to get a sense of what the data consists of."
   ]
  },
  {
   "cell_type": "code",
   "execution_count": 3,
   "metadata": {
    "collapsed": false
   },
   "outputs": [
    {
     "name": "stdout",
     "output_type": "stream",
     "text": [
      "   RespondentID Do you celebrate Thanksgiving?  \\\n",
      "0    4337954960                            Yes   \n",
      "1    4337951949                            Yes   \n",
      "2    4337935621                            Yes   \n",
      "3    4337933040                            Yes   \n",
      "4    4337931983                            Yes   \n",
      "\n",
      "  What is typically the main dish at your Thanksgiving dinner?  \\\n",
      "0                                             Turkey             \n",
      "1                                             Turkey             \n",
      "2                                             Turkey             \n",
      "3                                             Turkey             \n",
      "4                                           Tofurkey             \n",
      "\n",
      "  What is typically the main dish at your Thanksgiving dinner? - Other (please specify)  \\\n",
      "0                                                NaN                                      \n",
      "1                                                NaN                                      \n",
      "2                                                NaN                                      \n",
      "3                                                NaN                                      \n",
      "4                                                NaN                                      \n",
      "\n",
      "  How is the main dish typically cooked?  \\\n",
      "0                                  Baked   \n",
      "1                                  Baked   \n",
      "2                                Roasted   \n",
      "3                                  Baked   \n",
      "4                                  Baked   \n",
      "\n",
      "  How is the main dish typically cooked? - Other (please specify)  \\\n",
      "0                                                NaN                \n",
      "1                                                NaN                \n",
      "2                                                NaN                \n",
      "3                                                NaN                \n",
      "4                                                NaN                \n",
      "\n",
      "  What kind of stuffing/dressing do you typically have?  \\\n",
      "0                                        Bread-based      \n",
      "1                                        Bread-based      \n",
      "2                                         Rice-based      \n",
      "3                                        Bread-based      \n",
      "4                                        Bread-based      \n",
      "\n",
      "  What kind of stuffing/dressing do you typically have? - Other (please specify)  \\\n",
      "0                                                NaN                               \n",
      "1                                                NaN                               \n",
      "2                                                NaN                               \n",
      "3                                                NaN                               \n",
      "4                                                NaN                               \n",
      "\n",
      "  What type of cranberry saucedo you typically have?  \\\n",
      "0                                               None   \n",
      "1                             Other (please specify)   \n",
      "2                                           Homemade   \n",
      "3                                           Homemade   \n",
      "4                                             Canned   \n",
      "\n",
      "  What type of cranberry saucedo you typically have? - Other (please specify)  \\\n",
      "0                                                NaN                            \n",
      "1                    Homemade cranberry gelatin ring                            \n",
      "2                                                NaN                            \n",
      "3                                                NaN                            \n",
      "4                                                NaN                            \n",
      "\n",
      "          ...          \\\n",
      "0         ...           \n",
      "1         ...           \n",
      "2         ...           \n",
      "3         ...           \n",
      "4         ...           \n",
      "\n",
      "  Have you ever tried to meet up with hometown friends on Thanksgiving night?  \\\n",
      "0                                                Yes                            \n",
      "1                                                 No                            \n",
      "2                                                Yes                            \n",
      "3                                                Yes                            \n",
      "4                                                Yes                            \n",
      "\n",
      "  Have you ever attended a \"Friendsgiving?\"  \\\n",
      "0                                        No   \n",
      "1                                        No   \n",
      "2                                       Yes   \n",
      "3                                        No   \n",
      "4                                        No   \n",
      "\n",
      "  Will you shop any Black Friday sales on Thanksgiving Day?  \\\n",
      "0                                                 No          \n",
      "1                                                Yes          \n",
      "2                                                Yes          \n",
      "3                                                 No          \n",
      "4                                                 No          \n",
      "\n",
      "  Do you work in retail? Will you employer make you work on Black Friday?  \\\n",
      "0                     No                                              NaN   \n",
      "1                     No                                              NaN   \n",
      "2                     No                                              NaN   \n",
      "3                     No                                              NaN   \n",
      "4                     No                                              NaN   \n",
      "\n",
      "  How would you describe where you live?      Age What is your gender?  \\\n",
      "0                               Suburban  18 - 29                 Male   \n",
      "1                                  Rural  18 - 29               Female   \n",
      "2                               Suburban  18 - 29                 Male   \n",
      "3                                  Urban  30 - 44                 Male   \n",
      "4                                  Urban  30 - 44                 Male   \n",
      "\n",
      "  How much total combined money did all members of your HOUSEHOLD earn last year?  \\\n",
      "0                                 $75,000 to $99,999                                \n",
      "1                                 $50,000 to $74,999                                \n",
      "2                                       $0 to $9,999                                \n",
      "3                                    $200,000 and up                                \n",
      "4                               $100,000 to $124,999                                \n",
      "\n",
      "            US Region  \n",
      "0     Middle Atlantic  \n",
      "1  East South Central  \n",
      "2            Mountain  \n",
      "3             Pacific  \n",
      "4             Pacific  \n",
      "\n",
      "[5 rows x 65 columns]\n"
     ]
    }
   ],
   "source": [
    "import math\n",
    "import pandas\n",
    "data = pandas.read_csv(\"data/thanksgiving.csv\",encoding=\"Latin-1\")\n",
    "print(data.head(5))"
   ]
  },
  {
   "cell_type": "code",
   "execution_count": 6,
   "metadata": {
    "collapsed": false
   },
   "outputs": [
    {
     "name": "stdout",
     "output_type": "stream",
     "text": [
      "Index(['RespondentID', 'Do you celebrate Thanksgiving?',\n",
      "       'What is typically the main dish at your Thanksgiving dinner?',\n",
      "       'What is typically the main dish at your Thanksgiving dinner? - Other (please specify)',\n",
      "       'How is the main dish typically cooked?',\n",
      "       'How is the main dish typically cooked? - Other (please specify)',\n",
      "       'What kind of stuffing/dressing do you typically have?',\n",
      "       'What kind of stuffing/dressing do you typically have? - Other (please specify)',\n",
      "       'What type of cranberry saucedo you typically have?',\n",
      "       'What type of cranberry saucedo you typically have? - Other (please specify)',\n",
      "       'Do you typically have gravy?',\n",
      "       'Which of these side dishes aretypically served at your Thanksgiving dinner? Please select all that apply. - Brussel sprouts',\n",
      "       'Which of these side dishes aretypically served at your Thanksgiving dinner? Please select all that apply. - Carrots',\n",
      "       'Which of these side dishes aretypically served at your Thanksgiving dinner? Please select all that apply. - Cauliflower',\n",
      "       'Which of these side dishes aretypically served at your Thanksgiving dinner? Please select all that apply. - Corn',\n",
      "       'Which of these side dishes aretypically served at your Thanksgiving dinner? Please select all that apply. - Cornbread',\n",
      "       'Which of these side dishes aretypically served at your Thanksgiving dinner? Please select all that apply. - Fruit salad',\n",
      "       'Which of these side dishes aretypically served at your Thanksgiving dinner? Please select all that apply. - Green beans/green bean casserole',\n",
      "       'Which of these side dishes aretypically served at your Thanksgiving dinner? Please select all that apply. - Macaroni and cheese',\n",
      "       'Which of these side dishes aretypically served at your Thanksgiving dinner? Please select all that apply. - Mashed potatoes',\n",
      "       'Which of these side dishes aretypically served at your Thanksgiving dinner? Please select all that apply. - Rolls/biscuits',\n",
      "       'Which of these side dishes aretypically served at your Thanksgiving dinner? Please select all that apply. - Squash',\n",
      "       'Which of these side dishes aretypically served at your Thanksgiving dinner? Please select all that apply. - Vegetable salad',\n",
      "       'Which of these side dishes aretypically served at your Thanksgiving dinner? Please select all that apply. - Yams/sweet potato casserole',\n",
      "       'Which of these side dishes aretypically served at your Thanksgiving dinner? Please select all that apply. - Other (please specify)',\n",
      "       'Which of these side dishes aretypically served at your Thanksgiving dinner? Please select all that apply. - Other (please specify).1',\n",
      "       'Which type of pie is typically served at your Thanksgiving dinner? Please select all that apply. - Apple',\n",
      "       'Which type of pie is typically served at your Thanksgiving dinner? Please select all that apply. - Buttermilk',\n",
      "       'Which type of pie is typically served at your Thanksgiving dinner? Please select all that apply. - Cherry',\n",
      "       'Which type of pie is typically served at your Thanksgiving dinner? Please select all that apply. - Chocolate',\n",
      "       'Which type of pie is typically served at your Thanksgiving dinner? Please select all that apply. - Coconut cream',\n",
      "       'Which type of pie is typically served at your Thanksgiving dinner? Please select all that apply. - Key lime',\n",
      "       'Which type of pie is typically served at your Thanksgiving dinner? Please select all that apply. - Peach',\n",
      "       'Which type of pie is typically served at your Thanksgiving dinner? Please select all that apply. - Pecan',\n",
      "       'Which type of pie is typically served at your Thanksgiving dinner? Please select all that apply. - Pumpkin',\n",
      "       'Which type of pie is typically served at your Thanksgiving dinner? Please select all that apply. - Sweet Potato',\n",
      "       'Which type of pie is typically served at your Thanksgiving dinner? Please select all that apply. - None',\n",
      "       'Which type of pie is typically served at your Thanksgiving dinner? Please select all that apply. - Other (please specify)',\n",
      "       'Which type of pie is typically served at your Thanksgiving dinner? Please select all that apply. - Other (please specify).1',\n",
      "       'Which of these desserts do you typically have at Thanksgiving dinner? Please select all that apply.   - Apple cobbler',\n",
      "       'Which of these desserts do you typically have at Thanksgiving dinner? Please select all that apply.   - Blondies',\n",
      "       'Which of these desserts do you typically have at Thanksgiving dinner? Please select all that apply.   - Brownies',\n",
      "       'Which of these desserts do you typically have at Thanksgiving dinner? Please select all that apply.   - Carrot cake',\n",
      "       'Which of these desserts do you typically have at Thanksgiving dinner? Please select all that apply.   - Cheesecake',\n",
      "       'Which of these desserts do you typically have at Thanksgiving dinner? Please select all that apply.   - Cookies',\n",
      "       'Which of these desserts do you typically have at Thanksgiving dinner? Please select all that apply.   - Fudge',\n",
      "       'Which of these desserts do you typically have at Thanksgiving dinner? Please select all that apply.   - Ice cream',\n",
      "       'Which of these desserts do you typically have at Thanksgiving dinner? Please select all that apply.   - Peach cobbler',\n",
      "       'Which of these desserts do you typically have at Thanksgiving dinner? Please select all that apply.   - None',\n",
      "       'Which of these desserts do you typically have at Thanksgiving dinner? Please select all that apply.   - Other (please specify)',\n",
      "       'Which of these desserts do you typically have at Thanksgiving dinner? Please select all that apply.   - Other (please specify).1',\n",
      "       'Do you typically pray before or after the Thanksgiving meal?',\n",
      "       'How far will you travel for Thanksgiving?',\n",
      "       'Will you watch any of the following programs on Thanksgiving? Please select all that apply. - Macy's Parade',\n",
      "       'What's the age cutoff at your \"kids' table\" at Thanksgiving?',\n",
      "       'Have you ever tried to meet up with hometown friends on Thanksgiving night?',\n",
      "       'Have you ever attended a \"Friendsgiving?\"',\n",
      "       'Will you shop any Black Friday sales on Thanksgiving Day?',\n",
      "       'Do you work in retail?',\n",
      "       'Will you employer make you work on Black Friday?',\n",
      "       'How would you describe where you live?', 'Age', 'What is your gender?',\n",
      "       'How much total combined money did all members of your HOUSEHOLD earn last year?',\n",
      "       'US Region'],\n",
      "      dtype='object')\n"
     ]
    }
   ],
   "source": [
    "print(data.columns)"
   ]
  },
  {
   "cell_type": "code",
   "execution_count": 4,
   "metadata": {
    "collapsed": false
   },
   "outputs": [
    {
     "name": "stdout",
     "output_type": "stream",
     "text": [
      "<class 'pandas.core.frame.DataFrame'>\n",
      "RangeIndex: 1058 entries, 0 to 1057\n",
      "Data columns (total 65 columns):\n",
      "RespondentID                                                                                                                                    1058 non-null int64\n",
      "Do you celebrate Thanksgiving?                                                                                                                  1058 non-null object\n",
      "What is typically the main dish at your Thanksgiving dinner?                                                                                    974 non-null object\n",
      "What is typically the main dish at your Thanksgiving dinner? - Other (please specify)                                                           35 non-null object\n",
      "How is the main dish typically cooked?                                                                                                          974 non-null object\n",
      "How is the main dish typically cooked? - Other (please specify)                                                                                 51 non-null object\n",
      "What kind of stuffing/dressing do you typically have?                                                                                           974 non-null object\n",
      "What kind of stuffing/dressing do you typically have? - Other (please specify)                                                                  36 non-null object\n",
      "What type of cranberry saucedo you typically have?                                                                                              974 non-null object\n",
      "What type of cranberry saucedo you typically have? - Other (please specify)                                                                     25 non-null object\n",
      "Do you typically have gravy?                                                                                                                    974 non-null object\n",
      "Which of these side dishes aretypically served at your Thanksgiving dinner? Please select all that apply. - Brussel sprouts                     155 non-null object\n",
      "Which of these side dishes aretypically served at your Thanksgiving dinner? Please select all that apply. - Carrots                             242 non-null object\n",
      "Which of these side dishes aretypically served at your Thanksgiving dinner? Please select all that apply. - Cauliflower                         88 non-null object\n",
      "Which of these side dishes aretypically served at your Thanksgiving dinner? Please select all that apply. - Corn                                464 non-null object\n",
      "Which of these side dishes aretypically served at your Thanksgiving dinner? Please select all that apply. - Cornbread                           235 non-null object\n",
      "Which of these side dishes aretypically served at your Thanksgiving dinner? Please select all that apply. - Fruit salad                         215 non-null object\n",
      "Which of these side dishes aretypically served at your Thanksgiving dinner? Please select all that apply. - Green beans/green bean casserole    686 non-null object\n",
      "Which of these side dishes aretypically served at your Thanksgiving dinner? Please select all that apply. - Macaroni and cheese                 206 non-null object\n",
      "Which of these side dishes aretypically served at your Thanksgiving dinner? Please select all that apply. - Mashed potatoes                     817 non-null object\n",
      "Which of these side dishes aretypically served at your Thanksgiving dinner? Please select all that apply. - Rolls/biscuits                      766 non-null object\n",
      "Which of these side dishes aretypically served at your Thanksgiving dinner? Please select all that apply. - Squash                              171 non-null object\n",
      "Which of these side dishes aretypically served at your Thanksgiving dinner? Please select all that apply. - Vegetable salad                     209 non-null object\n",
      "Which of these side dishes aretypically served at your Thanksgiving dinner? Please select all that apply. - Yams/sweet potato casserole         631 non-null object\n",
      "Which of these side dishes aretypically served at your Thanksgiving dinner? Please select all that apply. - Other (please specify)              111 non-null object\n",
      "Which of these side dishes aretypically served at your Thanksgiving dinner? Please select all that apply. - Other (please specify).1            111 non-null object\n",
      "Which type of pie is typically served at your Thanksgiving dinner? Please select all that apply. - Apple                                        514 non-null object\n",
      "Which type of pie is typically served at your Thanksgiving dinner? Please select all that apply. - Buttermilk                                   35 non-null object\n",
      "Which type of pie is typically served at your Thanksgiving dinner? Please select all that apply. - Cherry                                       113 non-null object\n",
      "Which type of pie is typically served at your Thanksgiving dinner? Please select all that apply. - Chocolate                                    133 non-null object\n",
      "Which type of pie is typically served at your Thanksgiving dinner? Please select all that apply. - Coconut cream                                36 non-null object\n",
      "Which type of pie is typically served at your Thanksgiving dinner? Please select all that apply. - Key lime                                     39 non-null object\n",
      "Which type of pie is typically served at your Thanksgiving dinner? Please select all that apply. - Peach                                        34 non-null object\n",
      "Which type of pie is typically served at your Thanksgiving dinner? Please select all that apply. - Pecan                                        342 non-null object\n",
      "Which type of pie is typically served at your Thanksgiving dinner? Please select all that apply. - Pumpkin                                      729 non-null object\n",
      "Which type of pie is typically served at your Thanksgiving dinner? Please select all that apply. - Sweet Potato                                 152 non-null object\n",
      "Which type of pie is typically served at your Thanksgiving dinner? Please select all that apply. - None                                         40 non-null object\n",
      "Which type of pie is typically served at your Thanksgiving dinner? Please select all that apply. - Other (please specify)                       71 non-null object\n",
      "Which type of pie is typically served at your Thanksgiving dinner? Please select all that apply. - Other (please specify).1                     71 non-null object\n",
      "Which of these desserts do you typically have at Thanksgiving dinner? Please select all that apply.   - Apple cobbler                           110 non-null object\n",
      "Which of these desserts do you typically have at Thanksgiving dinner? Please select all that apply.   - Blondies                                16 non-null object\n",
      "Which of these desserts do you typically have at Thanksgiving dinner? Please select all that apply.   - Brownies                                128 non-null object\n",
      "Which of these desserts do you typically have at Thanksgiving dinner? Please select all that apply.   - Carrot cake                             72 non-null object\n",
      "Which of these desserts do you typically have at Thanksgiving dinner? Please select all that apply.   - Cheesecake                              191 non-null object\n",
      "Which of these desserts do you typically have at Thanksgiving dinner? Please select all that apply.   - Cookies                                 204 non-null object\n",
      "Which of these desserts do you typically have at Thanksgiving dinner? Please select all that apply.   - Fudge                                   43 non-null object\n",
      "Which of these desserts do you typically have at Thanksgiving dinner? Please select all that apply.   - Ice cream                               266 non-null object\n",
      "Which of these desserts do you typically have at Thanksgiving dinner? Please select all that apply.   - Peach cobbler                           103 non-null object\n",
      "Which of these desserts do you typically have at Thanksgiving dinner? Please select all that apply.   - None                                    295 non-null object\n",
      "Which of these desserts do you typically have at Thanksgiving dinner? Please select all that apply.   - Other (please specify)                  134 non-null object\n",
      "Which of these desserts do you typically have at Thanksgiving dinner? Please select all that apply.   - Other (please specify).1                134 non-null object\n",
      "Do you typically pray before or after the Thanksgiving meal?                                                                                    959 non-null object\n",
      "How far will you travel for Thanksgiving?                                                                                                       951 non-null object\n",
      "Will you watch any of the following programs on Thanksgiving? Please select all that apply. - Macy's Parade                                     502 non-null object\n",
      "What's the age cutoff at your \"kids' table\" at Thanksgiving?                                                                                    951 non-null object\n",
      "Have you ever tried to meet up with hometown friends on Thanksgiving night?                                                                     951 non-null object\n",
      "Have you ever attended a \"Friendsgiving?\"                                                                                                       951 non-null object\n",
      "Will you shop any Black Friday sales on Thanksgiving Day?                                                                                       951 non-null object\n",
      "Do you work in retail?                                                                                                                          951 non-null object\n",
      "Will you employer make you work on Black Friday?                                                                                                70 non-null object\n",
      "How would you describe where you live?                                                                                                          948 non-null object\n",
      "Age                                                                                                                                             1025 non-null object\n",
      "What is your gender?                                                                                                                            1025 non-null object\n",
      "How much total combined money did all members of your HOUSEHOLD earn last year?                                                                 1025 non-null object\n",
      "US Region                                                                                                                                       999 non-null object\n",
      "dtypes: int64(1), object(64)\n",
      "memory usage: 537.3+ KB\n",
      "None\n"
     ]
    }
   ],
   "source": [
    "print(data.info())"
   ]
  },
  {
   "cell_type": "markdown",
   "metadata": {},
   "source": [
    "## 2: Filtering Out Rows From A DataFrame\n",
    "Because we want to understand what people ate for Thanksgiving, we'll remove any responses from people who don't celebrate it. The column `Do you celebrate Thanksgiving?` contains this information. We only want to keep data for people who answered Yes to this questions.\n",
    "\n",
    "* Display counts of how many times each category occurs in the `Do you celebrate Thanksgiving?` column.\n",
    "* Filter out any rows in data where the response to `Do you celebrate Thanksgiving?` is not `Yes`. At the end, all of the values in the `Do you celebrate Thanksgiving?` column of data should be `Yes`."
   ]
  },
  {
   "cell_type": "code",
   "execution_count": 8,
   "metadata": {
    "collapsed": false
   },
   "outputs": [
    {
     "data": {
      "text/plain": [
       "Yes    980\n",
       "No      78\n",
       "Name: Do you celebrate Thanksgiving?, dtype: int64"
      ]
     },
     "execution_count": 8,
     "metadata": {},
     "output_type": "execute_result"
    }
   ],
   "source": [
    "data[\"Do you celebrate Thanksgiving?\"].value_counts()"
   ]
  },
  {
   "cell_type": "code",
   "execution_count": 13,
   "metadata": {
    "collapsed": false
   },
   "outputs": [
    {
     "data": {
      "text/plain": [
       "Yes    980\n",
       "Name: Do you celebrate Thanksgiving?, dtype: int64"
      ]
     },
     "execution_count": 13,
     "metadata": {},
     "output_type": "execute_result"
    }
   ],
   "source": [
    "celebrate_filter = data[\"Do you celebrate Thanksgiving?\"] == \"Yes\"\n",
    "data = data[celebrate_filter]\n",
    "data[\"Do you celebrate Thanksgiving?\"].value_counts()"
   ]
  },
  {
   "cell_type": "markdown",
   "metadata": {},
   "source": [
    "## 3: Using Value_counts To Explore Main Dishes\n",
    "Let's explore what main dishes people tend to eat during Thanksgiving dinner.\n",
    "\n",
    "* Display counts of how many times each category occurs in the `What is typically the main dish at your Thanksgiving dinner?` column.\n",
    "* Display the `Do you typically have gravy?` column for any rows from data where the `What is typically the main dish at your Thanksgiving dinner?` column equals `Tofurkey`."
   ]
  },
  {
   "cell_type": "code",
   "execution_count": 14,
   "metadata": {
    "collapsed": false
   },
   "outputs": [
    {
     "name": "stdout",
     "output_type": "stream",
     "text": [
      "Turkey                    859\n",
      "Other (please specify)     35\n",
      "Ham/Pork                   29\n",
      "Tofurkey                   20\n",
      "Chicken                    12\n",
      "Roast beef                 11\n",
      "I don't know                5\n",
      "Turducken                   3\n",
      "Name: What is typically the main dish at your Thanksgiving dinner?, dtype: int64\n"
     ]
    }
   ],
   "source": [
    "print(data[\"What is typically the main dish at your Thanksgiving dinner?\"].value_counts())"
   ]
  },
  {
   "cell_type": "code",
   "execution_count": 15,
   "metadata": {
    "collapsed": false
   },
   "outputs": [
    {
     "name": "stdout",
     "output_type": "stream",
     "text": [
      "4      Yes\n",
      "33     Yes\n",
      "69      No\n",
      "72      No\n",
      "77     Yes\n",
      "145    Yes\n",
      "175    Yes\n",
      "218     No\n",
      "243    Yes\n",
      "275     No\n",
      "393    Yes\n",
      "399    Yes\n",
      "571    Yes\n",
      "594    Yes\n",
      "628     No\n",
      "774     No\n",
      "820     No\n",
      "837    Yes\n",
      "860     No\n",
      "953    Yes\n",
      "Name: Do you typically have gravy?, dtype: object\n"
     ]
    }
   ],
   "source": [
    "filter_Tofurkey = data[\"What is typically the main dish at your Thanksgiving dinner?\"] == \"Tofurkey\"\n",
    "data_Tofurkey = data[filter_Tofurkey]\n",
    "data_gravy = data_Tofurkey[\"Do you typically have gravy?\"]\n",
    "print(data_gravy)"
   ]
  },
  {
   "cell_type": "markdown",
   "metadata": {},
   "source": [
    "## 4: Figuring Out What Pies People Eat\n",
    "Now that we've looked into the main dishes, let's explore the dessert dishes. Specifically, we'll look at how many people eat Apple, Pecan, or Pumpkin pie during Thanksgiving dinner. This data is encoded in the following three columns:\n",
    "* `Which type of pie is typically served at your Thanksgiving dinner? Please select all that apply. - Apple`\n",
    "* `Which type of pie is typically served at your Thanksgiving dinner? Please select all that apply. - Pumpkin`\n",
    "* `Which type of pie is typically served at your Thanksgiving dinner? Please select all that apply. - Pecan`\n",
    "\n",
    "In all three columns, the value is either the name of the pie if the person eats it for Thanksgiving dinner, or null otherwise.\n",
    "\n",
    "We can find out how many people eat one of these three pies for Thanksgiving dinner by figuring out for how many people all three columns are null.\n",
    "\n",
    "* Generate a Boolean Series indicating where the `Which type of pie is typically served at your Thanksgiving dinner? Please select all that apply. - Apple` column is null. Assign to the `apple_isnull` variable.\n",
    "* Generate a Boolean Series indicating where the `Which type of pie is typically served at your Thanksgiving dinner? Please select all that apply. - Pumpkin` column is null. Assign to the `pumpkin_isnull` variable.\n",
    "* Generate a Boolean Series indicating where the `Which type of pie is typically served at your Thanksgiving dinner? Please select all that apply. - Pecan` column is null. Assign to the `pecan_isnull` variable.\n",
    "* Join all three Series using the & operator, and assign the result to `ate_pies`\n",
    "* Display the unique values and how many times each occurs in the `ate_pies` column."
   ]
  },
  {
   "cell_type": "code",
   "execution_count": 17,
   "metadata": {
    "collapsed": false
   },
   "outputs": [
    {
     "name": "stdout",
     "output_type": "stream",
     "text": [
      "0    False\n",
      "1    False\n",
      "2    False\n",
      "3    False\n",
      "4    False\n",
      "dtype: bool\n",
      "False    876\n",
      "True     104\n",
      "dtype: int64\n"
     ]
    }
   ],
   "source": [
    "apple_isnull = (pandas.isnull\n",
    "    (data[\"Which type of pie is typically served at your Thanksgiving dinner? Please select all that apply. - Apple\"]))\n",
    "pumpkin_isnull = (pandas.isnull\n",
    "    (data[\"Which type of pie is typically served at your Thanksgiving dinner? Please select all that apply. - Pumpkin\"]))\n",
    "pecan_isnull = (pandas.isnull\n",
    "    (data[\"Which type of pie is typically served at your Thanksgiving dinner? Please select all that apply. - Pecan\"]))\n",
    "ate_pies = apple_isnull & pumpkin_isnull & pecan_isnull\n",
    "print(ate_pies.head(5))\n",
    "print(ate_pies.value_counts())\n",
    "#Display the unique values and \n",
    "#how many times each occurs in the ate_pies column."
   ]
  },
  {
   "cell_type": "markdown",
   "metadata": {},
   "source": [
    "## 5: Converting Age To Numeric\n",
    "Let's analyze the `Age` column in more depth. In order to analyze the `Age` column, we'll first need to convert it to numeric values. This will make it simple to figure out things like the average age of survey respondents. The `Age` column contains values that fall into one of a few categories:\n",
    "* `18 - 29`\n",
    "* `30 - 44`\n",
    "* `45 - 59`\n",
    "* `60+`\n",
    "* `null`\n",
    "\n",
    "Because we're missing the exact age value, we won't be able to extract an exact integer value, and we'll instead have to extract the first age value in the strings given.\n",
    "\n",
    "We can do this by splitting each value on the space character (` `), then taking the first item in the resulting list. We'll also have to replace the \"+\" character to account for \"60+\", which follows a different format than the rest.\n",
    "\n",
    "* Write a function to convert a single string to an appropriate integer value. This will allow us to convert the values in the Age column to integers.\n",
    "  * Use the isnull() function to check if the value is null. If it is, return None.\n",
    "  * Split the string on the space character (), and extract the first item of the resulting list.\n",
    "  * Replace the + character in the result with an empty string to remove it.\n",
    "  * Use int() to convert the result to an integer.\n",
    "  * Return the result.\n",
    "* Use the pandas.Series.apply() method to apply the function to each value in the Age column of data.\n",
    "  * Assign the result to the int_age column of data.\n",
    "* Call the pandas.Series.describe() method on the int_age column of data, and display the result.\n",
    "* In a separate markdown cell, write up your findings.\n",
    "  * Is there anything that we should be aware of about the results or our methodology?\n",
    "  * Is this a true depiction of the ages of survey participants?"
   ]
  },
  {
   "cell_type": "code",
   "execution_count": 23,
   "metadata": {
    "collapsed": false
   },
   "outputs": [
    {
     "name": "stdout",
     "output_type": "stream",
     "text": [
      "980\n"
     ]
    },
    {
     "data": {
      "text/plain": [
       "45 - 59    269\n",
       "60+        258\n",
       "30 - 44    235\n",
       "18 - 29    185\n",
       "Name: Age, dtype: int64"
      ]
     },
     "execution_count": 23,
     "metadata": {},
     "output_type": "execute_result"
    }
   ],
   "source": [
    "print(len(data[\"Age\"]))\n",
    "data[\"Age\"].value_counts()"
   ]
  },
  {
   "cell_type": "code",
   "execution_count": 26,
   "metadata": {
    "collapsed": false
   },
   "outputs": [
    {
     "name": "stderr",
     "output_type": "stream",
     "text": [
      "C:\\Users\\Nikhil\\Anaconda3\\lib\\site-packages\\numpy\\lib\\function_base.py:3834: RuntimeWarning: Invalid value encountered in percentile\n",
      "  RuntimeWarning)\n"
     ]
    },
    {
     "data": {
      "text/plain": [
       "count    947.000000\n",
       "mean      40.089757\n",
       "std       15.352014\n",
       "min       18.000000\n",
       "25%             NaN\n",
       "50%             NaN\n",
       "75%             NaN\n",
       "max       60.000000\n",
       "Name: int_age, dtype: float64"
      ]
     },
     "execution_count": 26,
     "metadata": {},
     "output_type": "execute_result"
    }
   ],
   "source": [
    "def str_to_int(row):\n",
    "    #print(row, type(row))\n",
    "    #if type(row) is \"str\":\n",
    "    if pandas.isnull(row):\n",
    "        #print(row)\n",
    "        return None\n",
    "    else:\n",
    "        #if isinstance(row,str):\n",
    "        row_lst1 = str(row)\n",
    "        row_lst = row_lst1.split()\n",
    "        age1 = row_lst[0].replace(\"+\",\"\")\n",
    "        #print(age1)\n",
    "        age_int = int(age1)\n",
    "        #print(\"age1=\", age1, \"age_int=\", age_int)\n",
    "        return age_int    \n",
    "        \n",
    "data[\"int_age\"] = data[\"Age\"].apply(str_to_int)\n",
    "#data[\"int_age\"] = data[\"int_age\"].astype(\"int\")\n",
    "data[\"int_age\"].describe()\n"
   ]
  },
  {
   "cell_type": "markdown",
   "metadata": {},
   "source": [
    "## 6: Converting Income To Numeric\n",
    "The `How much total combined money did all members of your HOUSEHOLD earn last year?` column is very similar to the `Age` column. It contains categories, but can be converted to numerical values. Here are the unique values in the column:\n",
    "\n",
    "* `Prefer not to answer`\n",
    "* `$0 to $9,999`\n",
    "* `$10,000 to $24,999`\n",
    "* `$25,000 to $49,999`\n",
    "* `$50,000 to $74,999`\n",
    "* `$75,000 to $99,999`\n",
    "* `$100,000 to $124,999`\n",
    "* `$125,000 to $149,999`\n",
    "* `$150,000 to $174,999`\n",
    "* `$175,000 to $199,999`\n",
    "* `$200,000 and up`\n",
    "* `null`\n",
    "\n",
    "We can convert these values to numeric by again splitting on the space character ( ). We'll then have to account for the string `Prefer`. Finally, we'll be able to replace the dollar sign character \"$\" and the comma \",\" and return the result.\n",
    "\n",
    "* Write a function to convert a single string to an appropriate integer income value.\n",
    "  * Use the `isnull()` function to check if the value is null. If it is, return `None`.\n",
    "  * Split the string on the space character (), and extract the first item of the resulting list.\n",
    "  * If the result equals `Prefer`, return `None`.\n",
    "  * Replace the \"$\" and \",\" characters in the result with empty strings to remove them.\n",
    "  * Use `int()` to convert the result to an integer.\n",
    "  * Return the result.\n",
    "* Use the `pandas.Series.apply()` method to apply the function to each value in the `How much total combined money did all members of your HOUSEHOLD earn last year?` column of data.\n",
    "  * Assign the result to the `int_income` column of data.\n",
    "* Call the `pandas.Series.describe()` method on the `int_income` column of data, and display the result.\n",
    "* In a separate markdown cell, write up your findings.\n",
    "  * Is there anything that we should be aware of about the results or our methodology?\n",
    "  * Is this a true depiction of the incomes of survey participants?"
   ]
  },
  {
   "cell_type": "code",
   "execution_count": 30,
   "metadata": {
    "collapsed": false
   },
   "outputs": [
    {
     "name": "stdout",
     "output_type": "stream",
     "text": [
      "$25,000 to $49,999      166\n",
      "$75,000 to $99,999      127\n",
      "$50,000 to $74,999      127\n",
      "Prefer not to answer    118\n",
      "$100,000 to $124,999    109\n",
      "$200,000 and up          76\n",
      "$10,000 to $24,999       60\n",
      "$0 to $9,999             52\n",
      "$125,000 to $149,999     48\n",
      "$150,000 to $174,999     38\n",
      "$175,000 to $199,999     26\n",
      "Name: How much total combined money did all members of your HOUSEHOLD earn last year?, dtype: int64\n"
     ]
    }
   ],
   "source": [
    "print(data[\"How much total combined money did all members of your HOUSEHOLD earn last year?\"].value_counts())"
   ]
  },
  {
   "cell_type": "code",
   "execution_count": 31,
   "metadata": {
    "collapsed": false
   },
   "outputs": [
    {
     "name": "stderr",
     "output_type": "stream",
     "text": [
      "C:\\Users\\Nikhil\\Anaconda3\\lib\\site-packages\\numpy\\lib\\function_base.py:3834: RuntimeWarning: Invalid value encountered in percentile\n",
      "  RuntimeWarning)\n"
     ]
    },
    {
     "data": {
      "text/plain": [
       "count       829.000000\n",
       "mean      75965.018094\n",
       "std       59068.636748\n",
       "min           0.000000\n",
       "25%                NaN\n",
       "50%                NaN\n",
       "75%                NaN\n",
       "max      200000.000000\n",
       "Name: int_income, dtype: float64"
      ]
     },
     "execution_count": 31,
     "metadata": {},
     "output_type": "execute_result"
    }
   ],
   "source": [
    "def str_to_int_income(row):\n",
    "    if pandas.isnull(row):\n",
    "        return None\n",
    "    else: \n",
    "        #row_lst1 = str(row)\n",
    "        row_lst = row.split()\n",
    "        if row_lst[0] == \"Prefer\":\n",
    "            return None\n",
    "        income1 = row_lst[0].replace(\"$\",\"\")\n",
    "        income2 = income1.replace(\",\",\"\")\n",
    "        income_int = int(income2)\n",
    "        #print(\"income_int=\",income_int)\n",
    "        return income_int\n",
    "    \n",
    "data[\"int_income\"] = (\n",
    "        data[\"How much total combined money did all members of your HOUSEHOLD earn last year?\"].apply(str_to_int_income))\n",
    "\n",
    "data[\"int_income\"].describe()"
   ]
  },
  {
   "cell_type": "markdown",
   "metadata": {},
   "source": [
    "## 7: Correlating Travel Distance And Income\n",
    "We can now see how the distance someone travels for Thanksgiving dinner relates to their income level. It's safe to hypothesize that people earning less money could be younger, and would travel to their parent's houses for Thanksgiving. People earning more are more likely to have Thanksgiving at their house as a result.\n",
    "\n",
    "We can test this by filtering data based on `int_income` and seeing what the values in the `How far will you travel for Thanksgiving?` column are.\n",
    "\n",
    "* See how far people earning under 150000 will travel.\n",
    "  * Filter data, and only select rows where `int_income` is less than 150000.\n",
    "  * Use indexing to select the `How far will you travel for Thanksgiving?` column.\n",
    "  * Use the `value_counts()` method to count up how many times each value occurs in the column.\n",
    "  * Display the results.\n",
    "* See how far people earning over 150000 will travel.\n",
    "  * Filter data, and only select rows where `int_income` is greater than 150000.\n",
    "  * Use indexing to select the `ow far will you travel for Thanksgiving?` column.\n",
    "  * Use the `value_counts()` method to count up how many times each value occurs in the column.\n",
    "  * Display the results\n",
    "* Write up your findings in a markdown cell."
   ]
  },
  {
   "cell_type": "code",
   "execution_count": 44,
   "metadata": {
    "collapsed": false
   },
   "outputs": [
    {
     "name": "stdout",
     "output_type": "stream",
     "text": [
      "689\n",
      "\n",
      "Thanksgiving is happening at my home--I won't travel at all                         281\n",
      "Thanksgiving is local--it will take place in the town I live in                     203\n",
      "Thanksgiving is out of town but not too far--it's a drive of a few hours or less    150\n",
      "Thanksgiving is out of town and far away--I have to drive several hours or fly       55\n",
      "Name: How far will you travel for Thanksgiving?, dtype: int64\n",
      "Thanksgiving is happening at my home--I won't travel at all                         0.407837\n",
      "Thanksgiving is local--it will take place in the town I live in                     0.294630\n",
      "Thanksgiving is out of town but not too far--it's a drive of a few hours or less    0.217707\n",
      "Thanksgiving is out of town and far away--I have to drive several hours or fly      0.079826\n",
      "Name: How far will you travel for Thanksgiving?, dtype: float64\n"
     ]
    }
   ],
   "source": [
    "filter_income_lt_150000 = data[\"int_income\"] < 150000\n",
    "data1 = data[filter_income_lt_150000]\n",
    "travel1 = data1[\"How far will you travel for Thanksgiving?\"]\n",
    "print(len(travel1))\n",
    "print()\n",
    "print(travel1.value_counts())\n",
    "\n",
    "travel1_per = (travel1.value_counts())/len(travel1)\n",
    "print(travel1_per)"
   ]
  },
  {
   "cell_type": "code",
   "execution_count": 45,
   "metadata": {
    "collapsed": false
   },
   "outputs": [
    {
     "name": "stdout",
     "output_type": "stream",
     "text": [
      "102\n",
      "\n",
      "Thanksgiving is happening at my home--I won't travel at all                         49\n",
      "Thanksgiving is local--it will take place in the town I live in                     25\n",
      "Thanksgiving is out of town but not too far--it's a drive of a few hours or less    16\n",
      "Thanksgiving is out of town and far away--I have to drive several hours or fly      12\n",
      "Name: How far will you travel for Thanksgiving?, dtype: int64\n",
      "Thanksgiving is happening at my home--I won't travel at all                         0.480392\n",
      "Thanksgiving is local--it will take place in the town I live in                     0.245098\n",
      "Thanksgiving is out of town but not too far--it's a drive of a few hours or less    0.156863\n",
      "Thanksgiving is out of town and far away--I have to drive several hours or fly      0.117647\n",
      "Name: How far will you travel for Thanksgiving?, dtype: float64\n"
     ]
    }
   ],
   "source": [
    "filter_income_gt_150000 = data[\"int_income\"] > 150000\n",
    "data2 = data[filter_income_gt_150000]\n",
    "travel2 = data2[\"How far will you travel for Thanksgiving?\"]\n",
    "print(len(travel2))\n",
    "print()\n",
    "print(travel2.value_counts())\n",
    "\n",
    "travel2_per = (travel2.value_counts())/len(travel2)\n",
    "print(travel2_per)"
   ]
  },
  {
   "cell_type": "markdown",
   "metadata": {},
   "source": [
    "\n",
    "People with higher income levels are more likely to host Thanksgiving at their home (48%) compared to people with lower income levels (40%).\n",
    "They also are more likely (12%) to travel far (drive several hours or fly) compared to people with lower income levels (8%).\n",
    "\n",
    "---"
   ]
  },
  {
   "cell_type": "markdown",
   "metadata": {},
   "source": [
    "## 8: Linking Friendship And Age\n",
    "There are two columns which directly pertain to friendship, `Have you ever tried to meet up with hometown friends on Thanksgiving night?`, and `Have you ever attended a \"Friendsgiving?`. In the US, a \"Friendsgiving\" is when instead of traveling home for the holiday, you celebrate it with friends who live in your area. Both questions seem skewed towards younger people. Let's see if this hypothesis holds up.\n",
    "\n",
    "In order to see the average ages of people who have done both, we can generate a pivot table with the `pandas.DataFrame.pivot_table()` method. By calling this method on data, and passing in the right keyword arguments, we can generate a table showing the average ages of people who answered `Yes` to both questions, answered `Yes` to one question, and so on.\n",
    "\n",
    "* Generate a pivot table showing the average age of respondents for each category of `Have you ever tried to meet up with hometown friends on Thanksgiving night?` and `Have you ever attended a \"Friendsgiving?`.\n",
    "  * Call the `pivot_table()` method on data.\n",
    "  * Pass in `\"Have you ever tried to meet up with hometown friends on Thanksgiving night?\"` to the index keyword argument.\n",
    "  * Pass in `'Have you ever attended a \"Friendsgiving?\"'` to the columns keyword argument.\n",
    "  * Pass in `\"int_age\"` to the values keyword argument.\n",
    "  * Display the results.\n",
    "* Generate a pivot table showing the average income of respondents for each category of `Have you ever tried to meet up with hometown friends on Thanksgiving night?` and `Have you ever attended a \"Friendsgiving?`.\n",
    "* Write up a markdown cell with your findings."
   ]
  },
  {
   "cell_type": "code",
   "execution_count": 46,
   "metadata": {
    "collapsed": false
   },
   "outputs": [
    {
     "name": "stdout",
     "output_type": "stream",
     "text": [
      "Have you ever attended a \"Friendsgiving?\"                  No        Yes\n",
      "Have you ever tried to meet up with hometown fr...                      \n",
      "No                                                  42.283702  37.010526\n",
      "Yes                                                 41.475410  33.976744\n"
     ]
    }
   ],
   "source": [
    "print(data.pivot_table(index=\"Have you ever tried to meet up with hometown friends on Thanksgiving night?\",\n",
    "                       columns='Have you ever attended a \"Friendsgiving?\"',values=\"int_age\"))\n"
   ]
  },
  {
   "cell_type": "markdown",
   "metadata": {},
   "source": [
    "Younger people seem to be more likely to attend a Friendsgiving than older people. \n",
    "\n",
    "---"
   ]
  },
  {
   "cell_type": "markdown",
   "metadata": {},
   "source": [
    "## 9: Next Steps\n",
    "That's it for the guided steps! We recommend exploring the data more on your own.\n",
    "\n",
    "Here are some potential next steps:\n",
    "\n",
    "Figure out the most common dessert people eat.\n",
    "Figure out the most common complete meal people eat.\n",
    "Identify how many people work on Thanksgiving.\n",
    "Find regional patterns in the dinner menus.\n",
    "Find age, gender, and income based patterns in dinner menus."
   ]
  }
 ],
 "metadata": {
  "kernelspec": {
   "display_name": "Python [default]",
   "language": "python",
   "name": "python3"
  },
  "language_info": {
   "codemirror_mode": {
    "name": "ipython",
    "version": 3
   },
   "file_extension": ".py",
   "mimetype": "text/x-python",
   "name": "python",
   "nbconvert_exporter": "python",
   "pygments_lexer": "ipython3",
   "version": "3.5.2"
  }
 },
 "nbformat": 4,
 "nbformat_minor": 1
}
